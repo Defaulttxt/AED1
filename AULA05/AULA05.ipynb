{
 "cells": [
  {
   "cell_type": "code",
   "execution_count": 1,
   "id": "7a62e6b2-41e0-490a-addc-c67e2b695919",
   "metadata": {},
   "outputs": [
    {
     "name": "stdout",
     "output_type": "stream",
     "text": [
      "hello world!\n"
     ]
    }
   ],
   "source": [
    "print(\"hello world!\");"
   ]
  },
  {
   "cell_type": "code",
   "execution_count": 2,
   "id": "b66bc76e-f34e-4be2-8732-c6e5e8f176f6",
   "metadata": {},
   "outputs": [
    {
     "data": {
      "text/plain": [
       "10"
      ]
     },
     "execution_count": 2,
     "metadata": {},
     "output_type": "execute_result"
    }
   ],
   "source": [
    "#coment\n",
    "\n",
    "5+5"
   ]
  },
  {
   "cell_type": "code",
   "execution_count": 3,
   "id": "537f007e-c33d-4d51-8cb0-8cb5e637ded0",
   "metadata": {},
   "outputs": [],
   "source": [
    "nome = \"Pedro\""
   ]
  },
  {
   "cell_type": "code",
   "execution_count": 4,
   "id": "841bd477-c3de-48ab-87e6-898b116d96cc",
   "metadata": {},
   "outputs": [
    {
     "data": {
      "text/plain": [
       "'Pedro'"
      ]
     },
     "execution_count": 4,
     "metadata": {},
     "output_type": "execute_result"
    }
   ],
   "source": [
    "nome"
   ]
  },
  {
   "cell_type": "code",
   "execution_count": 6,
   "id": "86d960e5-7ab7-439c-abaf-5f4954ab5a92",
   "metadata": {},
   "outputs": [],
   "source": [
    "x = 345"
   ]
  },
  {
   "cell_type": "code",
   "execution_count": 7,
   "id": "19f016e4-63e7-4b9f-a93b-29194b6db35a",
   "metadata": {},
   "outputs": [],
   "source": [
    "y = x + 2"
   ]
  },
  {
   "cell_type": "code",
   "execution_count": 12,
   "id": "a50a7db1-c219-4d03-9496-f0413e24b058",
   "metadata": {},
   "outputs": [
    {
     "data": {
      "text/plain": [
       "347"
      ]
     },
     "execution_count": 12,
     "metadata": {},
     "output_type": "execute_result"
    }
   ],
   "source": [
    "y"
   ]
  },
  {
   "cell_type": "code",
   "execution_count": 16,
   "id": "60c3995a-6cd2-4bec-b76f-db101daeae64",
   "metadata": {},
   "outputs": [],
   "source": [
    "#y=(+(3*B))/((2*X)+C)"
   ]
  },
  {
   "cell_type": "code",
   "execution_count": 17,
   "id": "f378db96-50f0-4f9b-abc0-461ed7c64339",
   "metadata": {},
   "outputs": [],
   "source": [
    "A = 5"
   ]
  },
  {
   "cell_type": "code",
   "execution_count": 18,
   "id": "e610c173-d794-4f3d-b760-b945f1e711c2",
   "metadata": {},
   "outputs": [
    {
     "data": {
      "text/plain": [
       "int"
      ]
     },
     "execution_count": 18,
     "metadata": {},
     "output_type": "execute_result"
    }
   ],
   "source": [
    "type(A)"
   ]
  },
  {
   "cell_type": "code",
   "execution_count": 19,
   "id": "6455c08f-ad69-4c54-a8e9-fb1efd3da52c",
   "metadata": {},
   "outputs": [],
   "source": [
    "X = 45\n",
    "Y = 23"
   ]
  },
  {
   "cell_type": "code",
   "execution_count": 21,
   "id": "9c4d5d3c-01f8-4999-be02-1b936275a7d3",
   "metadata": {},
   "outputs": [],
   "source": [
    "SOMA = X + Y"
   ]
  },
  {
   "cell_type": "code",
   "execution_count": 23,
   "id": "cea19636-5f21-4ced-a7e6-5b2d9dd98f9c",
   "metadata": {},
   "outputs": [
    {
     "name": "stdout",
     "output_type": "stream",
     "text": [
      "68\n"
     ]
    }
   ],
   "source": [
    "print(SOMA)"
   ]
  },
  {
   "cell_type": "code",
   "execution_count": 24,
   "id": "cabee381-2055-4f0e-9e95-3a4039d0b0e5",
   "metadata": {},
   "outputs": [
    {
     "data": {
      "text/plain": [
       "1.9565217391304348"
      ]
     },
     "execution_count": 24,
     "metadata": {},
     "output_type": "execute_result"
    }
   ],
   "source": [
    "X / Y"
   ]
  },
  {
   "cell_type": "code",
   "execution_count": 25,
   "id": "fcf7cf44-30eb-407e-b59b-30081140756c",
   "metadata": {},
   "outputs": [
    {
     "data": {
      "text/plain": [
       "1"
      ]
     },
     "execution_count": 25,
     "metadata": {},
     "output_type": "execute_result"
    }
   ],
   "source": [
    "X // Y"
   ]
  },
  {
   "cell_type": "code",
   "execution_count": 51,
   "id": "ac871674-e564-4bbd-8e0b-3b12207e06e9",
   "metadata": {},
   "outputs": [],
   "source": [
    "Z = 2;\n",
    "L = 2;"
   ]
  },
  {
   "cell_type": "code",
   "execution_count": 84,
   "id": "dfbc2bd3-96c9-4842-ad0b-92df67b5619a",
   "metadata": {},
   "outputs": [
    {
     "name": "stdout",
     "output_type": "stream",
     "text": [
      "ola\n"
     ]
    }
   ],
   "source": [
    "if Z == L:\n",
    "    print(\"ola\")\n",
    "else:\n",
    "    print(\"nem\")"
   ]
  },
  {
   "cell_type": "code",
   "execution_count": 85,
   "id": "c9a16643-2362-49e5-97f5-5d5680d8758b",
   "metadata": {},
   "outputs": [],
   "source": [
    "Y = 4.5"
   ]
  },
  {
   "cell_type": "code",
   "execution_count": 86,
   "id": "4446b3dd-9d98-4e79-b1ea-bbdce613cf25",
   "metadata": {},
   "outputs": [
    {
     "data": {
      "text/plain": [
       "float"
      ]
     },
     "execution_count": 86,
     "metadata": {},
     "output_type": "execute_result"
    }
   ],
   "source": [
    "type(Y)"
   ]
  },
  {
   "cell_type": "code",
   "execution_count": 87,
   "id": "b23287ab-1276-4d3d-bdc9-d9eb7ea90398",
   "metadata": {},
   "outputs": [
    {
     "data": {
      "text/plain": [
       "4"
      ]
     },
     "execution_count": 87,
     "metadata": {},
     "output_type": "execute_result"
    }
   ],
   "source": [
    "int(Y)"
   ]
  },
  {
   "cell_type": "code",
   "execution_count": 93,
   "id": "9d76d397-5769-4868-be6b-3225c5e03be0",
   "metadata": {},
   "outputs": [
    {
     "data": {
      "text/plain": [
       "False"
      ]
     },
     "execution_count": 93,
     "metadata": {},
     "output_type": "execute_result"
    }
   ],
   "source": [
    "X = True\n",
    "Y = False\n",
    "\n",
    "X and Y"
   ]
  },
  {
   "cell_type": "code",
   "execution_count": 92,
   "id": "1c270936-9473-40be-9c11-5e5790429df8",
   "metadata": {},
   "outputs": [
    {
     "data": {
      "text/plain": [
       "True"
      ]
     },
     "execution_count": 92,
     "metadata": {},
     "output_type": "execute_result"
    }
   ],
   "source": [
    "X or Y"
   ]
  },
  {
   "cell_type": "code",
   "execution_count": 96,
   "id": "d6b1b5b6-fe55-4074-a55c-965ed5b64386",
   "metadata": {},
   "outputs": [
    {
     "data": {
      "text/plain": [
       "False"
      ]
     },
     "execution_count": 96,
     "metadata": {},
     "output_type": "execute_result"
    }
   ],
   "source": [
    "not X"
   ]
  },
  {
   "cell_type": "code",
   "execution_count": 98,
   "id": "58e60822-5e1e-4e95-882d-316becd7070a",
   "metadata": {},
   "outputs": [
    {
     "data": {
      "text/plain": [
       "str"
      ]
     },
     "execution_count": 98,
     "metadata": {},
     "output_type": "execute_result"
    }
   ],
   "source": [
    "nome = \"Terreiro\"\n",
    "\n",
    "type(nome)"
   ]
  },
  {
   "cell_type": "code",
   "execution_count": 99,
   "id": "43a2c696-53d4-41eb-ac65-065a159fe406",
   "metadata": {},
   "outputs": [],
   "source": [
    "prenome = \"Pedro\""
   ]
  },
  {
   "cell_type": "code",
   "execution_count": 108,
   "id": "365c610b-52e6-4905-a90d-a1de4e88215d",
   "metadata": {},
   "outputs": [],
   "source": [
    "nome_completo = prenome + nome"
   ]
  },
  {
   "cell_type": "code",
   "execution_count": 111,
   "id": "a14d50ef-dd0a-40c4-a39f-dfd7c9367c93",
   "metadata": {},
   "outputs": [
    {
     "data": {
      "text/plain": [
       "'PedroTerreiro'"
      ]
     },
     "execution_count": 111,
     "metadata": {},
     "output_type": "execute_result"
    }
   ],
   "source": [
    "nome_completo"
   ]
  },
  {
   "cell_type": "code",
   "execution_count": 112,
   "id": "b1549a9c-b510-4a35-94a7-ce08955cd723",
   "metadata": {},
   "outputs": [
    {
     "data": {
      "text/plain": [
       "'a'"
      ]
     },
     "execution_count": 112,
     "metadata": {},
     "output_type": "execute_result"
    }
   ],
   "source": [
    "chr(97)"
   ]
  },
  {
   "cell_type": "code",
   "execution_count": 113,
   "id": "757cf702-9a15-4750-a36a-99244f21ce72",
   "metadata": {},
   "outputs": [
    {
     "data": {
      "text/plain": [
       "97"
      ]
     },
     "execution_count": 113,
     "metadata": {},
     "output_type": "execute_result"
    }
   ],
   "source": [
    "ord(\"a\")  #au"
   ]
  },
  {
   "cell_type": "code",
   "execution_count": null,
   "id": "99a3d4bf-0dbc-4f6e-9554-a390c60f1d67",
   "metadata": {},
   "outputs": [],
   "source": []
  }
 ],
 "metadata": {
  "kernelspec": {
   "display_name": "Python 3 (ipykernel)",
   "language": "python",
   "name": "python3"
  },
  "language_info": {
   "codemirror_mode": {
    "name": "ipython",
    "version": 3
   },
   "file_extension": ".py",
   "mimetype": "text/x-python",
   "name": "python",
   "nbconvert_exporter": "python",
   "pygments_lexer": "ipython3",
   "version": "3.12.4"
  }
 },
 "nbformat": 4,
 "nbformat_minor": 5
}
